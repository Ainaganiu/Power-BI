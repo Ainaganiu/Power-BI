{
 "cells": [
  {
   "attachments": {},
   "cell_type": "markdown",
   "id": "f4bb545b",
   "metadata": {},
   "source": [
    "## Create Power BI reports in Jupyter Notebooks\n",
    "\n",
    "---\n",
    "\n",
    "Let explore how we can create Power Report in Jupyter Notebooks  \n",
    "\n",
    " With this new update, users can gain insights instantly without the hassle of switching between tools or dealing with cumbersome data exports. You can check this [link](https://powerbi.microsoft.com/en-us/blog/create-power-bi-reports-in-jupyter-notebooks/) for further information"
   ]
  },
  {
   "cell_type": "code",
   "execution_count": 1,
   "id": "8f3d74fa",
   "metadata": {},
   "outputs": [],
   "source": [
    "# Let install the Power BI client \n",
    "from powerbiclient.authentication import DeviceCodeLoginAuthentication\n",
    "from powerbiclient import Report, models\n",
    "from powerbiclient import QuickVisualize, get_dataset_config, Report\n",
    "from powerbiclient.authentication import DeviceCodeLoginAuthentication\n",
    "from io import StringIO\n",
    "from ipywidgets import interact\n",
    "import requests\n",
    "import pandas as pd\n",
    "import matplotlib\n",
    "from powerbiclient import Report, models\n"
   ]
  },
  {
   "cell_type": "code",
   "execution_count": 3,
   "id": "4cb69870",
   "metadata": {},
   "outputs": [
    {
     "name": "stdout",
     "output_type": "stream",
     "text": [
      "Performing device flow authentication. Please follow the instructions below.\n",
      "To sign in, use a web browser to open the page https://microsoft.com/devicelogin and enter the code CG94FC3RE to authenticate.\n",
      "\n",
      "Device flow authentication successfully completed.\n",
      "You are now logged in .\n",
      "\n",
      "The result should be passed only to trusted code in your notebook.\n"
     ]
    }
   ],
   "source": [
    "# Auth object for demo\n",
    "auth = DeviceCodeLoginAuthentication()"
   ]
  },
  {
   "cell_type": "markdown",
   "id": "a2b260df",
   "metadata": {},
   "source": [
    "## About the Dataset\n",
    "---\n",
    "The dataset was extracted from Kaggle. Check the [link](https://www.kaggle.com/datasets/ashishraut64/global-methane-emissions) for more information about the dataset   \n",
    "The following dataset has information about methane gas emissions globally. "
   ]
  },
  {
   "cell_type": "code",
   "execution_count": 4,
   "id": "3e82f91c",
   "metadata": {},
   "outputs": [],
   "source": [
    "import pandas as pd\n",
    "import matplotlib.pyplot as plt"
   ]
  },
  {
   "cell_type": "code",
   "execution_count": 5,
   "id": "3cdd202d",
   "metadata": {},
   "outputs": [
    {
     "data": {
      "text/html": [
       "<div>\n",
       "<style scoped>\n",
       "    .dataframe tbody tr th:only-of-type {\n",
       "        vertical-align: middle;\n",
       "    }\n",
       "\n",
       "    .dataframe tbody tr th {\n",
       "        vertical-align: top;\n",
       "    }\n",
       "\n",
       "    .dataframe thead th {\n",
       "        text-align: right;\n",
       "    }\n",
       "</style>\n",
       "<table border=\"1\" class=\"dataframe\">\n",
       "  <thead>\n",
       "    <tr style=\"text-align: right;\">\n",
       "      <th></th>\n",
       "      <th>Unnamed: 0</th>\n",
       "      <th>region</th>\n",
       "      <th>country</th>\n",
       "      <th>emissions</th>\n",
       "      <th>type</th>\n",
       "      <th>segment</th>\n",
       "      <th>reason</th>\n",
       "      <th>baseYear</th>\n",
       "      <th>notes</th>\n",
       "    </tr>\n",
       "  </thead>\n",
       "  <tbody>\n",
       "    <tr>\n",
       "      <th>0</th>\n",
       "      <td>0</td>\n",
       "      <td>Africa</td>\n",
       "      <td>Algeria</td>\n",
       "      <td>257.611206</td>\n",
       "      <td>Agriculture</td>\n",
       "      <td>Total</td>\n",
       "      <td>All</td>\n",
       "      <td>2019-2021</td>\n",
       "      <td>Average based on United Nations Framework Conv...</td>\n",
       "    </tr>\n",
       "    <tr>\n",
       "      <th>1</th>\n",
       "      <td>1</td>\n",
       "      <td>Africa</td>\n",
       "      <td>Algeria</td>\n",
       "      <td>0.052000</td>\n",
       "      <td>Energy</td>\n",
       "      <td>Bioenergy</td>\n",
       "      <td>All</td>\n",
       "      <td>2022</td>\n",
       "      <td>Estimates from end-uses are for 2020 or 2021 (...</td>\n",
       "    </tr>\n",
       "    <tr>\n",
       "      <th>2</th>\n",
       "      <td>2</td>\n",
       "      <td>Africa</td>\n",
       "      <td>Algeria</td>\n",
       "      <td>130.798996</td>\n",
       "      <td>Energy</td>\n",
       "      <td>Gas pipelines and LNG facilities</td>\n",
       "      <td>Fugitive</td>\n",
       "      <td>2022</td>\n",
       "      <td>Not available</td>\n",
       "    </tr>\n",
       "    <tr>\n",
       "      <th>3</th>\n",
       "      <td>3</td>\n",
       "      <td>Africa</td>\n",
       "      <td>Algeria</td>\n",
       "      <td>69.741898</td>\n",
       "      <td>Energy</td>\n",
       "      <td>Gas pipelines and LNG facilities</td>\n",
       "      <td>Vented</td>\n",
       "      <td>2022</td>\n",
       "      <td>Not available</td>\n",
       "    </tr>\n",
       "    <tr>\n",
       "      <th>4</th>\n",
       "      <td>4</td>\n",
       "      <td>Africa</td>\n",
       "      <td>Algeria</td>\n",
       "      <td>213.987000</td>\n",
       "      <td>Energy</td>\n",
       "      <td>Onshore gas</td>\n",
       "      <td>Fugitive</td>\n",
       "      <td>2022</td>\n",
       "      <td>Not available</td>\n",
       "    </tr>\n",
       "  </tbody>\n",
       "</table>\n",
       "</div>"
      ],
      "text/plain": [
       "   Unnamed: 0  region  country   emissions         type   \n",
       "0           0  Africa  Algeria  257.611206  Agriculture  \\\n",
       "1           1  Africa  Algeria    0.052000       Energy   \n",
       "2           2  Africa  Algeria  130.798996       Energy   \n",
       "3           3  Africa  Algeria   69.741898       Energy   \n",
       "4           4  Africa  Algeria  213.987000       Energy   \n",
       "\n",
       "                            segment    reason   baseYear   \n",
       "0                             Total       All  2019-2021  \\\n",
       "1                         Bioenergy       All       2022   \n",
       "2  Gas pipelines and LNG facilities  Fugitive       2022   \n",
       "3  Gas pipelines and LNG facilities    Vented       2022   \n",
       "4                       Onshore gas  Fugitive       2022   \n",
       "\n",
       "                                               notes  \n",
       "0  Average based on United Nations Framework Conv...  \n",
       "1  Estimates from end-uses are for 2020 or 2021 (...  \n",
       "2                                      Not available  \n",
       "3                                      Not available  \n",
       "4                                      Not available  "
      ]
     },
     "execution_count": 5,
     "metadata": {},
     "output_type": "execute_result"
    }
   ],
   "source": [
    "# Importing the dataset\n",
    "df = pd.read_csv('Methane_final.csv')\n",
    "df.head()"
   ]
  },
  {
   "cell_type": "code",
   "execution_count": 6,
   "id": "a998d835",
   "metadata": {},
   "outputs": [
    {
     "name": "stdout",
     "output_type": "stream",
     "text": [
      "There are 1548 rows and 9 columns in this dataset\n"
     ]
    }
   ],
   "source": [
    "# Let check the total rows and columns in this dataframe\n",
    "data_shape = df.shape\n",
    "print(\"There are {} rows and {} columns in this dataset\".format(data_shape[0],data_shape[1]))"
   ]
  },
  {
   "cell_type": "code",
   "execution_count": 7,
   "id": "c9e37257",
   "metadata": {},
   "outputs": [
    {
     "name": "stdout",
     "output_type": "stream",
     "text": [
      "There are no null values in this dataset\n"
     ]
    }
   ],
   "source": [
    "# Let check for null values\n",
    "df.isnull().sum()\n",
    "print(\"There are no null values in this dataset\")"
   ]
  },
  {
   "cell_type": "code",
   "execution_count": 8,
   "id": "e7cfc52e",
   "metadata": {},
   "outputs": [],
   "source": [
    "# Let the delete the unamed:0 column\n",
    "df = df.drop(['Unnamed: 0'], axis=1)"
   ]
  },
  {
   "cell_type": "code",
   "execution_count": 9,
   "id": "6ec8a322",
   "metadata": {},
   "outputs": [
    {
     "data": {
      "text/html": [
       "<div>\n",
       "<style scoped>\n",
       "    .dataframe tbody tr th:only-of-type {\n",
       "        vertical-align: middle;\n",
       "    }\n",
       "\n",
       "    .dataframe tbody tr th {\n",
       "        vertical-align: top;\n",
       "    }\n",
       "\n",
       "    .dataframe thead th {\n",
       "        text-align: right;\n",
       "    }\n",
       "</style>\n",
       "<table border=\"1\" class=\"dataframe\">\n",
       "  <thead>\n",
       "    <tr style=\"text-align: right;\">\n",
       "      <th></th>\n",
       "      <th>region</th>\n",
       "      <th>country</th>\n",
       "      <th>emissions</th>\n",
       "      <th>type</th>\n",
       "      <th>segment</th>\n",
       "      <th>reason</th>\n",
       "      <th>baseYear</th>\n",
       "      <th>notes</th>\n",
       "    </tr>\n",
       "  </thead>\n",
       "  <tbody>\n",
       "    <tr>\n",
       "      <th>926</th>\n",
       "      <td>Europe</td>\n",
       "      <td>Germany</td>\n",
       "      <td>0.023368</td>\n",
       "      <td>Energy</td>\n",
       "      <td>Offshore gas</td>\n",
       "      <td>Vented</td>\n",
       "      <td>2022</td>\n",
       "      <td>Not available</td>\n",
       "    </tr>\n",
       "    <tr>\n",
       "      <th>503</th>\n",
       "      <td>Asia Pacific</td>\n",
       "      <td>Indonesia</td>\n",
       "      <td>3518.344482</td>\n",
       "      <td>Agriculture</td>\n",
       "      <td>Total</td>\n",
       "      <td>All</td>\n",
       "      <td>2019-2021</td>\n",
       "      <td>Average based on United Nations Framework Conv...</td>\n",
       "    </tr>\n",
       "    <tr>\n",
       "      <th>203</th>\n",
       "      <td>Africa</td>\n",
       "      <td>Guinea</td>\n",
       "      <td>438.159424</td>\n",
       "      <td>Agriculture</td>\n",
       "      <td>Total</td>\n",
       "      <td>All</td>\n",
       "      <td>2019-2021</td>\n",
       "      <td>Average based on United Nations Framework Conv...</td>\n",
       "    </tr>\n",
       "    <tr>\n",
       "      <th>546</th>\n",
       "      <td>Asia Pacific</td>\n",
       "      <td>Korea</td>\n",
       "      <td>0.041719</td>\n",
       "      <td>Energy</td>\n",
       "      <td>Onshore gas</td>\n",
       "      <td>Fugitive</td>\n",
       "      <td>2022</td>\n",
       "      <td>Not available</td>\n",
       "    </tr>\n",
       "    <tr>\n",
       "      <th>1423</th>\n",
       "      <td>Other</td>\n",
       "      <td>Other</td>\n",
       "      <td>82.033897</td>\n",
       "      <td>Energy</td>\n",
       "      <td>Onshore oil</td>\n",
       "      <td>Vented</td>\n",
       "      <td>2022</td>\n",
       "      <td>Not available</td>\n",
       "    </tr>\n",
       "    <tr>\n",
       "      <th>1214</th>\n",
       "      <td>Middle East</td>\n",
       "      <td>Jordan</td>\n",
       "      <td>0.495481</td>\n",
       "      <td>Energy</td>\n",
       "      <td>Onshore gas</td>\n",
       "      <td>Vented</td>\n",
       "      <td>2022</td>\n",
       "      <td>Not available</td>\n",
       "    </tr>\n",
       "    <tr>\n",
       "      <th>701</th>\n",
       "      <td>Central and South America</td>\n",
       "      <td>Bolivia</td>\n",
       "      <td>56.529099</td>\n",
       "      <td>Energy</td>\n",
       "      <td>Onshore gas</td>\n",
       "      <td>Vented</td>\n",
       "      <td>2022</td>\n",
       "      <td>Not available</td>\n",
       "    </tr>\n",
       "    <tr>\n",
       "      <th>663</th>\n",
       "      <td>Asia Pacific</td>\n",
       "      <td>Thailand</td>\n",
       "      <td>94.464996</td>\n",
       "      <td>Energy</td>\n",
       "      <td>Onshore oil</td>\n",
       "      <td>Vented</td>\n",
       "      <td>2022</td>\n",
       "      <td>Not available</td>\n",
       "    </tr>\n",
       "    <tr>\n",
       "      <th>199</th>\n",
       "      <td>Africa</td>\n",
       "      <td>Ghana</td>\n",
       "      <td>2.759281</td>\n",
       "      <td>Energy</td>\n",
       "      <td>Other from oil and gas</td>\n",
       "      <td>All</td>\n",
       "      <td>2022</td>\n",
       "      <td>Estimates from end-uses are for 2020 or 2021 (...</td>\n",
       "    </tr>\n",
       "    <tr>\n",
       "      <th>327</th>\n",
       "      <td>Africa</td>\n",
       "      <td>Somalia</td>\n",
       "      <td>23.820881</td>\n",
       "      <td>Other</td>\n",
       "      <td>Total</td>\n",
       "      <td>All</td>\n",
       "      <td>2019-2021</td>\n",
       "      <td>Average based on United Nations Framework Conv...</td>\n",
       "    </tr>\n",
       "  </tbody>\n",
       "</table>\n",
       "</div>"
      ],
      "text/plain": [
       "                         region    country    emissions         type   \n",
       "926                      Europe    Germany     0.023368       Energy  \\\n",
       "503                Asia Pacific  Indonesia  3518.344482  Agriculture   \n",
       "203                      Africa     Guinea   438.159424  Agriculture   \n",
       "546                Asia Pacific      Korea     0.041719       Energy   \n",
       "1423                      Other      Other    82.033897       Energy   \n",
       "1214                Middle East     Jordan     0.495481       Energy   \n",
       "701   Central and South America    Bolivia    56.529099       Energy   \n",
       "663                Asia Pacific   Thailand    94.464996       Energy   \n",
       "199                      Africa      Ghana     2.759281       Energy   \n",
       "327                      Africa    Somalia    23.820881        Other   \n",
       "\n",
       "                     segment    reason   baseYear   \n",
       "926             Offshore gas    Vented       2022  \\\n",
       "503                    Total       All  2019-2021   \n",
       "203                    Total       All  2019-2021   \n",
       "546              Onshore gas  Fugitive       2022   \n",
       "1423             Onshore oil    Vented       2022   \n",
       "1214             Onshore gas    Vented       2022   \n",
       "701              Onshore gas    Vented       2022   \n",
       "663              Onshore oil    Vented       2022   \n",
       "199   Other from oil and gas       All       2022   \n",
       "327                    Total       All  2019-2021   \n",
       "\n",
       "                                                  notes  \n",
       "926                                       Not available  \n",
       "503   Average based on United Nations Framework Conv...  \n",
       "203   Average based on United Nations Framework Conv...  \n",
       "546                                       Not available  \n",
       "1423                                      Not available  \n",
       "1214                                      Not available  \n",
       "701                                       Not available  \n",
       "663                                       Not available  \n",
       "199   Estimates from end-uses are for 2020 or 2021 (...  \n",
       "327   Average based on United Nations Framework Conv...  "
      ]
     },
     "execution_count": 9,
     "metadata": {},
     "output_type": "execute_result"
    }
   ],
   "source": [
    "df.sample(10)"
   ]
  },
  {
   "cell_type": "code",
   "execution_count": 10,
   "id": "5a52681d",
   "metadata": {},
   "outputs": [
    {
     "name": "stdout",
     "output_type": "stream",
     "text": [
      "['2019-2021' '2022']\n",
      "object\n"
     ]
    }
   ],
   "source": [
    "# Let check the baseYear column\n",
    "print(df.baseYear.unique())\n",
    "print(df['baseYear'].dtypes)\n",
    "# The dates column is not supposed be an object type"
   ]
  },
  {
   "cell_type": "code",
   "execution_count": 11,
   "id": "97bc0513",
   "metadata": {},
   "outputs": [
    {
     "name": "stdout",
     "output_type": "stream",
     "text": [
      "['Africa' 'Asia Pacific' 'Central and South America' 'Europe'\n",
      " 'Middle East' 'North America' 'Other' 'Russia & Caspian' 'World']\n"
     ]
    },
    {
     "data": {
      "text/plain": [
       "8"
      ]
     },
     "execution_count": 11,
     "metadata": {},
     "output_type": "execute_result"
    }
   ],
   "source": [
    "# Let check the region column\n",
    "print(df.region.unique())\n",
    "# let replace the 'World' with Other\n",
    "df['region'] = df['region'].replace('World','Other')\n",
    "df['region'].nunique()"
   ]
  },
  {
   "cell_type": "code",
   "execution_count": 12,
   "id": "0212eed5",
   "metadata": {},
   "outputs": [
    {
     "name": "stdout",
     "output_type": "stream",
     "text": [
      "value counts \n",
      " baseYear\n",
      "2022         1233\n",
      "2019-2021     315\n",
      "Name: count, dtype: int64\n",
      "There are two years in this dataset 2021-2022\n"
     ]
    },
    {
     "data": {
      "text/plain": [
       "0    2021\n",
       "1    2022\n",
       "2    2022\n",
       "3    2022\n",
       "4    2022\n",
       "Name: baseYear, dtype: object"
      ]
     },
     "execution_count": 12,
     "metadata": {},
     "output_type": "execute_result"
    }
   ],
   "source": [
    "# Let check the counts of distinct values in the baseYear column\n",
    "print('value counts \\n', df.baseYear.value_counts())\n",
    "# for the sake of this analysis let change the value of 2019 -2021 to 2021\n",
    "df['baseYear'] = df['baseYear'].replace('2019-2021', 2021)\n",
    "print('There are two years in this dataset 2021-2022')\n",
    "df['baseYear'].head()\n"
   ]
  },
  {
   "cell_type": "code",
   "execution_count": 13,
   "id": "2e54ee4c",
   "metadata": {},
   "outputs": [
    {
     "data": {
      "text/plain": [
       "region\n",
       "Africa                        54197.15\n",
       "Asia Pacific                 177699.61\n",
       "Central and South America     45639.99\n",
       "Europe                        49209.00\n",
       "Middle East                   38095.80\n",
       "North America                 63347.41\n",
       "Other                        505149.67\n",
       "Russia & Caspian              62421.61\n",
       "Name: emissions, dtype: float64"
      ]
     },
     "execution_count": 13,
     "metadata": {},
     "output_type": "execute_result"
    }
   ],
   "source": [
    "# Let group the Region that has the most emissions and round it to 2 decimal place\n",
    "region_emission = df.groupby('region')['emissions'].sum().round(2)\n",
    "region_emission"
   ]
  },
  {
   "cell_type": "code",
   "execution_count": 14,
   "id": "78c0c097",
   "metadata": {},
   "outputs": [
    {
     "data": {
      "text/plain": [
       "region          8\n",
       "emissions    1531\n",
       "dtype: int64"
      ]
     },
     "execution_count": 14,
     "metadata": {},
     "output_type": "execute_result"
    }
   ],
   "source": [
    "jj = df[['region','emissions']]\n",
    "jj.nunique()"
   ]
  },
  {
   "cell_type": "code",
   "execution_count": 15,
   "id": "3cb6a2c7",
   "metadata": {},
   "outputs": [
    {
     "data": {
      "application/vnd.jupyter.widget-view+json": {
       "model_id": "0ce06f141b0746569f162f12a12d2266",
       "version_major": 2,
       "version_minor": 0
      },
      "text/plain": [
       "QuickVisualize()"
      ]
     },
     "execution_count": 15,
     "metadata": {},
     "output_type": "execute_result"
    }
   ],
   "source": [
    "QuickVisualize(get_dataset_config(jj), auth=auth)"
   ]
  },
  {
   "cell_type": "code",
   "execution_count": 29,
   "id": "e47bfef3",
   "metadata": {},
   "outputs": [],
   "source": [
    "country_emmisions = df[['country','region','emissions']]"
   ]
  },
  {
   "cell_type": "code",
   "execution_count": 30,
   "id": "ed264bb1",
   "metadata": {},
   "outputs": [
    {
     "data": {
      "application/vnd.jupyter.widget-view+json": {
       "model_id": "fbdc5d38d2e14cdaa8b033902d0ff5c2",
       "version_major": 2,
       "version_minor": 0
      },
      "text/plain": [
       "QuickVisualize()"
      ]
     },
     "execution_count": 30,
     "metadata": {},
     "output_type": "execute_result"
    }
   ],
   "source": [
    "QuickVisualize(get_dataset_config(country_emmisions), auth=auth)"
   ]
  },
  {
   "cell_type": "code",
   "execution_count": null,
   "id": "f3d436aa",
   "metadata": {},
   "outputs": [],
   "source": []
  }
 ],
 "metadata": {
  "kernelspec": {
   "display_name": "Python 3 (ipykernel)",
   "language": "python",
   "name": "python3"
  },
  "language_info": {
   "codemirror_mode": {
    "name": "ipython",
    "version": 3
   },
   "file_extension": ".py",
   "mimetype": "text/x-python",
   "name": "python",
   "nbconvert_exporter": "python",
   "pygments_lexer": "ipython3",
   "version": "3.10.4"
  }
 },
 "nbformat": 4,
 "nbformat_minor": 5
}
